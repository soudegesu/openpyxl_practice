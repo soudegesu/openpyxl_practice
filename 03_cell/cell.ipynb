{
 "cells": [
  {
   "cell_type": "code",
   "execution_count": 5,
   "metadata": {},
   "outputs": [
    {
     "name": "stdout",
     "output_type": "stream",
     "text": [
      "<class 'openpyxl.worksheet.worksheet.Worksheet'>\n"
     ]
    }
   ],
   "source": [
    "from openpyxl import Workbook\n",
    "from openpyxl.compat import range\n",
    "from openpyxl.utils import get_column_letter\n",
    "\n",
    "wb = Workbook()\n",
    "\n",
    "ws = wb.active\n",
    "ws.title = \"サンプルシート\"\n",
    "\n",
    "ws['B2'] = 'hogehogehoge'\n",
    "ws['F5'] = 'fugafugaufga'\n",
    "\n",
    "wb.save(filename = 'sample_book.xlsx')"
   ]
  },
  {
   "cell_type": "code",
   "execution_count": 32,
   "metadata": {},
   "outputs": [
    {
     "name": "stdout",
     "output_type": "stream",
     "text": [
      "hogehogehoge\n",
      "hogehogehoge\n"
     ]
    }
   ],
   "source": [
    "b2 = ws['B2'].value\n",
    "print(b2)\n",
    "b2 = ws.cell(column=2, row=2).value\n",
    "print(b2)"
   ]
  },
  {
   "cell_type": "code",
   "execution_count": 9,
   "metadata": {},
   "outputs": [
    {
     "data": {
      "text/plain": [
       "['BREAK_COLUMN',\n",
       " 'BREAK_NONE',\n",
       " 'BREAK_ROW',\n",
       " 'HeaderFooter',\n",
       " 'ORIENTATION_LANDSCAPE',\n",
       " 'ORIENTATION_PORTRAIT',\n",
       " 'PAPERSIZE_A3',\n",
       " 'PAPERSIZE_A4',\n",
       " 'PAPERSIZE_A4_SMALL',\n",
       " 'PAPERSIZE_A5',\n",
       " 'PAPERSIZE_EXECUTIVE',\n",
       " 'PAPERSIZE_LEDGER',\n",
       " 'PAPERSIZE_LEGAL',\n",
       " 'PAPERSIZE_LETTER',\n",
       " 'PAPERSIZE_LETTER_SMALL',\n",
       " 'PAPERSIZE_STATEMENT',\n",
       " 'PAPERSIZE_TABLOID',\n",
       " 'SHEETSTATE_HIDDEN',\n",
       " 'SHEETSTATE_VERYHIDDEN',\n",
       " 'SHEETSTATE_VISIBLE',\n",
       " '_WorkbookChild__parent',\n",
       " '_WorkbookChild__title',\n",
       " '__class__',\n",
       " '__delattr__',\n",
       " '__delitem__',\n",
       " '__dict__',\n",
       " '__dir__',\n",
       " '__doc__',\n",
       " '__eq__',\n",
       " '__format__',\n",
       " '__ge__',\n",
       " '__getattribute__',\n",
       " '__getitem__',\n",
       " '__gt__',\n",
       " '__hash__',\n",
       " '__init__',\n",
       " '__init_subclass__',\n",
       " '__iter__',\n",
       " '__le__',\n",
       " '__lt__',\n",
       " '__module__',\n",
       " '__ne__',\n",
       " '__new__',\n",
       " '__reduce__',\n",
       " '__reduce_ex__',\n",
       " '__repr__',\n",
       " '__setattr__',\n",
       " '__setitem__',\n",
       " '__sizeof__',\n",
       " '__str__',\n",
       " '__subclasshook__',\n",
       " '__weakref__',\n",
       " '_add_cell',\n",
       " '_add_column',\n",
       " '_add_row',\n",
       " '_cells',\n",
       " '_cells_by_col',\n",
       " '_cells_by_row',\n",
       " '_charts',\n",
       " '_clean_merge_range',\n",
       " '_comments',\n",
       " '_current_row',\n",
       " '_default_title',\n",
       " '_drawing',\n",
       " '_get_cell',\n",
       " '_hyperlinks',\n",
       " '_id',\n",
       " '_images',\n",
       " '_invalid_row',\n",
       " '_move_cells',\n",
       " '_path',\n",
       " '_pivots',\n",
       " '_print_area',\n",
       " '_print_cols',\n",
       " '_print_rows',\n",
       " '_rel_type',\n",
       " '_rels',\n",
       " '_setup',\n",
       " '_tables',\n",
       " '_write',\n",
       " 'active_cell',\n",
       " 'add_chart',\n",
       " 'add_data_validation',\n",
       " 'add_image',\n",
       " 'add_pivot',\n",
       " 'add_print_title',\n",
       " 'add_table',\n",
       " 'append',\n",
       " 'auto_filter',\n",
       " 'calculate_dimension',\n",
       " 'cell',\n",
       " 'column_dimensions',\n",
       " 'columns',\n",
       " 'conditional_formatting',\n",
       " 'data_validations',\n",
       " 'delete_cols',\n",
       " 'delete_rows',\n",
       " 'dimensions',\n",
       " 'encoding',\n",
       " 'evenFooter',\n",
       " 'evenHeader',\n",
       " 'firstFooter',\n",
       " 'firstHeader',\n",
       " 'formula_attributes',\n",
       " 'freeze_panes',\n",
       " 'get_cell_collection',\n",
       " 'get_named_range',\n",
       " 'get_squared_range',\n",
       " 'insert_cols',\n",
       " 'insert_rows',\n",
       " 'iter_cols',\n",
       " 'iter_rows',\n",
       " 'legacy_drawing',\n",
       " 'max_column',\n",
       " 'max_row',\n",
       " 'merge_cells',\n",
       " 'merged_cell_ranges',\n",
       " 'merged_cells',\n",
       " 'mime_type',\n",
       " 'min_column',\n",
       " 'min_row',\n",
       " 'oddFooter',\n",
       " 'oddHeader',\n",
       " 'orientation',\n",
       " 'page_breaks',\n",
       " 'page_margins',\n",
       " 'page_setup',\n",
       " 'paper_size',\n",
       " 'parent',\n",
       " 'path',\n",
       " 'print_area',\n",
       " 'print_options',\n",
       " 'print_title_cols',\n",
       " 'print_title_rows',\n",
       " 'print_titles',\n",
       " 'protection',\n",
       " 'row_dimensions',\n",
       " 'rows',\n",
       " 'selected_cell',\n",
       " 'set_printer_settings',\n",
       " 'sheet_format',\n",
       " 'sheet_properties',\n",
       " 'sheet_state',\n",
       " 'sheet_view',\n",
       " 'show_gridlines',\n",
       " 'show_summary_below',\n",
       " 'show_summary_right',\n",
       " 'sort_state',\n",
       " 'title',\n",
       " 'unmerge_cells',\n",
       " 'values',\n",
       " 'vba_code',\n",
       " 'views']"
      ]
     },
     "execution_count": 9,
     "metadata": {},
     "output_type": "execute_result"
    }
   ],
   "source": [
    "dir(ws)"
   ]
  },
  {
   "cell_type": "code",
   "execution_count": 25,
   "metadata": {},
   "outputs": [
    {
     "name": "stdout",
     "output_type": "stream",
     "text": [
      "(<Cell 'サンプルシート'.A1>, <Cell 'サンプルシート'.B1>, <Cell 'サンプルシート'.C1>, <Cell 'サンプルシート'.D1>, <Cell 'サンプルシート'.E1>, <Cell 'サンプルシート'.F1>)\n",
      "(<Cell 'サンプルシート'.A2>, <Cell 'サンプルシート'.B2>, <Cell 'サンプルシート'.C2>, <Cell 'サンプルシート'.D2>, <Cell 'サンプルシート'.E2>, <Cell 'サンプルシート'.F2>)\n",
      "(<Cell 'サンプルシート'.A3>, <Cell 'サンプルシート'.B3>, <Cell 'サンプルシート'.C3>, <Cell 'サンプルシート'.D3>, <Cell 'サンプルシート'.E3>, <Cell 'サンプルシート'.F3>)\n",
      "(<Cell 'サンプルシート'.A4>, <Cell 'サンプルシート'.B4>, <Cell 'サンプルシート'.C4>, <Cell 'サンプルシート'.D4>, <Cell 'サンプルシート'.E4>, <Cell 'サンプルシート'.F4>)\n",
      "(<Cell 'サンプルシート'.A5>, <Cell 'サンプルシート'.B5>, <Cell 'サンプルシート'.C5>, <Cell 'サンプルシート'.D5>, <Cell 'サンプルシート'.E5>, <Cell 'サンプルシート'.F5>)\n"
     ]
    }
   ],
   "source": [
    "for row in ws.iter_rows():\n",
    "#     print(row['A1'])\n",
    "    print(row)"
   ]
  },
  {
   "cell_type": "code",
   "execution_count": 67,
   "metadata": {},
   "outputs": [
    {
     "name": "stdout",
     "output_type": "stream",
     "text": [
      "1列目：None\n",
      "2列目：hogehogehoge\n",
      "3列目：None\n",
      "4列目：None\n",
      "5列目：None\n",
      "6列目：None\n",
      "------------------------------------------\n",
      "1列目：None\n",
      "2列目：None\n",
      "3列目：None\n",
      "4列目：None\n",
      "5列目：None\n",
      "6列目：None\n",
      "------------------------------------------\n",
      "1列目：None\n",
      "2列目：None\n",
      "3列目：None\n",
      "4列目：None\n",
      "5列目：None\n",
      "6列目：None\n",
      "------------------------------------------\n",
      "1列目：None\n",
      "2列目：None\n",
      "3列目：None\n",
      "4列目：None\n",
      "5列目：None\n",
      "6列目：fugafugaufga\n",
      "------------------------------------------\n"
     ]
    }
   ],
   "source": [
    "# 1行単位で処理をする\n",
    "for row in ws.iter_rows(min_row=2):\n",
    "    # 行からセルを1個ずつ処理をする\n",
    "    for cell in row:\n",
    "        print(f\"{cell.col_idx}列目：{cell.value}\")\n",
    "    print('------------------------------------------')"
   ]
  },
  {
   "cell_type": "code",
   "execution_count": 58,
   "metadata": {},
   "outputs": [
    {
     "data": {
      "text/plain": [
       "generator"
      ]
     },
     "execution_count": 58,
     "metadata": {},
     "output_type": "execute_result"
    }
   ],
   "source": [
    "type(ws.rows)"
   ]
  },
  {
   "cell_type": "code",
   "execution_count": 71,
   "metadata": {},
   "outputs": [
    {
     "name": "stdout",
     "output_type": "stream",
     "text": [
      "2行目：None\n",
      "3行目：None\n",
      "4行目：None\n",
      "5行目：None\n",
      "------------------------------------------\n",
      "2行目：hogehogehoge\n",
      "3行目：None\n",
      "4行目：None\n",
      "5行目：None\n",
      "------------------------------------------\n",
      "2行目：None\n",
      "3行目：None\n",
      "4行目：None\n",
      "5行目：None\n",
      "------------------------------------------\n",
      "2行目：None\n",
      "3行目：None\n",
      "4行目：None\n",
      "5行目：None\n",
      "------------------------------------------\n",
      "2行目：None\n",
      "3行目：None\n",
      "4行目：None\n",
      "5行目：None\n",
      "------------------------------------------\n",
      "2行目：None\n",
      "3行目：None\n",
      "4行目：None\n",
      "5行目：fugafugaufga\n",
      "------------------------------------------\n"
     ]
    }
   ],
   "source": [
    "# 2列目を開始行として、1列単位で処理をする\n",
    "for col in ws.iter_cols(min_row=2):\n",
    "    # 列からセルを1個ずつ取得し、処理をする\n",
    "    for cell in col:\n",
    "        print(f\"{cell.row}行目：{cell.value}\")\n",
    "\n",
    "        print('------------------------------------------')"
   ]
  },
  {
   "cell_type": "code",
   "execution_count": 79,
   "metadata": {},
   "outputs": [],
   "source": [
    "wb = Workbook()\n",
    "ws = wb.active\n",
    "\n",
    "data = [\n",
    "        ['A', 100, 1.0],\n",
    "        ['B', 200, 2.0],\n",
    "        ['C', 300, 3.0],    \n",
    "        ['D', 400, 4.0]      \n",
    "]\n",
    "\n",
    "for row in data:\n",
    "    ws.append(row)\n",
    "    \n",
    "wb.save(filename = 'sample_book.xlsx')"
   ]
  },
  {
   "cell_type": "code",
   "execution_count": 80,
   "metadata": {},
   "outputs": [
    {
     "ename": "TypeError",
     "evalue": "can only concatenate list (not \"int\") to list",
     "output_type": "error",
     "traceback": [
      "\u001b[0;31m---------------------------------------------------------------------------\u001b[0m",
      "\u001b[0;31mTypeError\u001b[0m                                 Traceback (most recent call last)",
      "\u001b[0;32m<ipython-input-80-f82968b8f48f>\u001b[0m in \u001b[0;36m<module>\u001b[0;34m()\u001b[0m\n\u001b[1;32m     10\u001b[0m \u001b[0;34m\u001b[0m\u001b[0m\n\u001b[1;32m     11\u001b[0m \u001b[0;32mfor\u001b[0m \u001b[0mrow\u001b[0m \u001b[0;32min\u001b[0m \u001b[0mdata\u001b[0m\u001b[0;34m:\u001b[0m\u001b[0;34m\u001b[0m\u001b[0m\n\u001b[0;32m---> 12\u001b[0;31m     \u001b[0mws\u001b[0m\u001b[0;34m.\u001b[0m\u001b[0minsert_rows\u001b[0m\u001b[0;34m(\u001b[0m\u001b[0mrow\u001b[0m\u001b[0;34m)\u001b[0m\u001b[0;34m\u001b[0m\u001b[0m\n\u001b[0m\u001b[1;32m     13\u001b[0m \u001b[0;34m\u001b[0m\u001b[0m\n\u001b[1;32m     14\u001b[0m \u001b[0mwb\u001b[0m\u001b[0;34m.\u001b[0m\u001b[0msave\u001b[0m\u001b[0;34m(\u001b[0m\u001b[0mfilename\u001b[0m \u001b[0;34m=\u001b[0m \u001b[0;34m'sample_book.xlsx'\u001b[0m\u001b[0;34m)\u001b[0m\u001b[0;34m\u001b[0m\u001b[0m\n",
      "\u001b[0;32m~/.pyenv/versions/3.6.1/envs/openpyxl_practice/lib/python3.6/site-packages/openpyxl/worksheet/worksheet.py\u001b[0m in \u001b[0;36minsert_rows\u001b[0;34m(self, idx, amount)\u001b[0m\n\u001b[1;32m    824\u001b[0m         \u001b[0mInsert\u001b[0m \u001b[0mrow\u001b[0m \u001b[0;32mor\u001b[0m \u001b[0mrows\u001b[0m \u001b[0mbefore\u001b[0m \u001b[0mrow\u001b[0m\u001b[0;34m==\u001b[0m\u001b[0midx\u001b[0m\u001b[0;34m\u001b[0m\u001b[0m\n\u001b[1;32m    825\u001b[0m         \"\"\"\n\u001b[0;32m--> 826\u001b[0;31m         \u001b[0mself\u001b[0m\u001b[0;34m.\u001b[0m\u001b[0m_move_cells\u001b[0m\u001b[0;34m(\u001b[0m\u001b[0mmin_row\u001b[0m\u001b[0;34m=\u001b[0m\u001b[0midx\u001b[0m\u001b[0;34m,\u001b[0m \u001b[0moffset\u001b[0m\u001b[0;34m=\u001b[0m\u001b[0mamount\u001b[0m\u001b[0;34m,\u001b[0m \u001b[0mrow_or_col\u001b[0m\u001b[0;34m=\u001b[0m\u001b[0;34m\"row\"\u001b[0m\u001b[0;34m)\u001b[0m\u001b[0;34m\u001b[0m\u001b[0m\n\u001b[0m\u001b[1;32m    827\u001b[0m         \u001b[0mself\u001b[0m\u001b[0;34m.\u001b[0m\u001b[0m_current_row\u001b[0m \u001b[0;34m=\u001b[0m \u001b[0mself\u001b[0m\u001b[0;34m.\u001b[0m\u001b[0mmax_row\u001b[0m\u001b[0;34m\u001b[0m\u001b[0m\n\u001b[1;32m    828\u001b[0m \u001b[0;34m\u001b[0m\u001b[0m\n",
      "\u001b[0;32m~/.pyenv/versions/3.6.1/envs/openpyxl_practice/lib/python3.6/site-packages/openpyxl/worksheet/worksheet.py\u001b[0m in \u001b[0;36m_move_cells\u001b[0;34m(self, min_row, min_col, offset, row_or_col)\u001b[0m\n\u001b[1;32m    798\u001b[0m \u001b[0;34m\u001b[0m\u001b[0m\n\u001b[1;32m    799\u001b[0m         \u001b[0;31m# need to make affected ranges contiguous\u001b[0m\u001b[0;34m\u001b[0m\u001b[0;34m\u001b[0m\u001b[0m\n\u001b[0;32m--> 800\u001b[0;31m         \u001b[0mcells\u001b[0m \u001b[0;34m=\u001b[0m \u001b[0mself\u001b[0m\u001b[0;34m.\u001b[0m\u001b[0miter_rows\u001b[0m\u001b[0;34m(\u001b[0m\u001b[0mmin_row\u001b[0m\u001b[0;34m=\u001b[0m\u001b[0mmin_row\u001b[0m\u001b[0;34m)\u001b[0m\u001b[0;34m\u001b[0m\u001b[0m\n\u001b[0m\u001b[1;32m    801\u001b[0m \u001b[0;34m\u001b[0m\u001b[0m\n\u001b[1;32m    802\u001b[0m         \u001b[0;32mif\u001b[0m \u001b[0mrow_or_col\u001b[0m \u001b[0;34m==\u001b[0m \u001b[0;34m'col'\u001b[0m\u001b[0;34m:\u001b[0m\u001b[0;34m\u001b[0m\u001b[0m\n",
      "\u001b[0;32m~/.pyenv/versions/3.6.1/envs/openpyxl_practice/lib/python3.6/site-packages/openpyxl/worksheet/worksheet.py\u001b[0m in \u001b[0;36miter_rows\u001b[0;34m(self, range_string, min_row, max_row, min_col, max_col, row_offset, column_offset)\u001b[0m\n\u001b[1;32m    513\u001b[0m             \u001b[0mmax_row\u001b[0m \u001b[0;34m+=\u001b[0m \u001b[0mrow_offset\u001b[0m\u001b[0;34m\u001b[0m\u001b[0m\n\u001b[1;32m    514\u001b[0m         return self._cells_by_row(min_col + column_offset,\n\u001b[0;32m--> 515\u001b[0;31m                                   \u001b[0mmin_row\u001b[0m \u001b[0;34m+\u001b[0m \u001b[0mrow_offset\u001b[0m\u001b[0;34m,\u001b[0m\u001b[0;34m\u001b[0m\u001b[0m\n\u001b[0m\u001b[1;32m    516\u001b[0m                                   \u001b[0mmax_col\u001b[0m\u001b[0;34m,\u001b[0m\u001b[0;34m\u001b[0m\u001b[0m\n\u001b[1;32m    517\u001b[0m                                   max_row)\n",
      "\u001b[0;31mTypeError\u001b[0m: can only concatenate list (not \"int\") to list"
     ]
    }
   ],
   "source": [
    "wb = Workbook()\n",
    "ws = wb.active\n",
    "\n",
    "data = [\n",
    "        ['A', 100, 1.0],\n",
    "        ['B', 200, 2.0],\n",
    "        ['C', 300, 3.0],    \n",
    "        ['D', 400, 4.0]       \n",
    "]\n",
    "\n",
    "for row in data:\n",
    "    ws.insert_rows(row)\n",
    "    \n",
    "wb.save(filename = 'sample_book.xlsx')"
   ]
  },
  {
   "cell_type": "code",
   "execution_count": null,
   "metadata": {},
   "outputs": [],
   "source": []
  }
 ],
 "metadata": {
  "kernelspec": {
   "display_name": "Python 3",
   "language": "python",
   "name": "python3"
  },
  "language_info": {
   "codemirror_mode": {
    "name": "ipython",
    "version": 3
   },
   "file_extension": ".py",
   "mimetype": "text/x-python",
   "name": "python",
   "nbconvert_exporter": "python",
   "pygments_lexer": "ipython3",
   "version": "3.6.1"
  }
 },
 "nbformat": 4,
 "nbformat_minor": 2
}
