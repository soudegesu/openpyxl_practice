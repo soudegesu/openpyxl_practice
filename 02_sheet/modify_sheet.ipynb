{
 "cells": [
  {
   "cell_type": "code",
   "execution_count": 4,
   "metadata": {},
   "outputs": [
    {
     "name": "stdout",
     "output_type": "stream",
     "text": [
      "['シート２のタイトル', 'Sheet', 'シート1のタイトル']\n"
     ]
    }
   ],
   "source": [
    "from openpyxl.workbook import Workbook\n",
    "\n",
    "wb = Workbook()\n",
    "\n",
    "# 最後尾にシートを追加\n",
    "ws1 = wb.create_sheet(\"シート1\")\n",
    "# 先頭にシートを追加\n",
    "ws2 = wb.create_sheet(\"シート2\", 0)\n",
    "\n",
    "ws1.title = \"シート1のタイトル\"\n",
    "ws2.title = \"シート２のタイトル\"\n",
    "\n",
    "# ワークブック内のシート名をすべて表示\n",
    "print(wb.sheetnames)\n",
    "\n",
    "wb.save(filename = 'sample_book.xlsx')"
   ]
  },
  {
   "cell_type": "code",
   "execution_count": 15,
   "metadata": {},
   "outputs": [
    {
     "name": "stdout",
     "output_type": "stream",
     "text": [
      "<class 'openpyxl.worksheet.worksheet.Worksheet'>\n"
     ]
    }
   ],
   "source": [
    "print(type(ws1))"
   ]
  },
  {
   "cell_type": "code",
   "execution_count": 16,
   "metadata": {},
   "outputs": [
    {
     "data": {
      "text/plain": [
       "'シート1のタイトル'"
      ]
     },
     "execution_count": 16,
     "metadata": {},
     "output_type": "execute_result"
    }
   ],
   "source": [
    "ws3 = wb[\"シート1のタイトル\"]\n",
    "ws3.title"
   ]
  },
  {
   "cell_type": "code",
   "execution_count": null,
   "metadata": {},
   "outputs": [],
   "source": []
  }
 ],
 "metadata": {
  "kernelspec": {
   "display_name": "Python 3",
   "language": "python",
   "name": "python3"
  },
  "language_info": {
   "codemirror_mode": {
    "name": "ipython",
    "version": 3
   },
   "file_extension": ".py",
   "mimetype": "text/x-python",
   "name": "python",
   "nbconvert_exporter": "python",
   "pygments_lexer": "ipython3",
   "version": "3.6.1"
  }
 },
 "nbformat": 4,
 "nbformat_minor": 2
}
